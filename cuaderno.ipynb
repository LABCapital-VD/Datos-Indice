{
 "cells": [
  {
   "cell_type": "code",
   "execution_count": 64,
   "metadata": {},
   "outputs": [],
   "source": [
    "import uuid\n",
    "import pandas as pd"
   ]
  },
  {
   "cell_type": "markdown",
   "metadata": {},
   "source": [
    "# entidad,sector y persona"
   ]
  },
  {
   "cell_type": "code",
   "execution_count": 65,
   "metadata": {},
   "outputs": [],
   "source": [
    "entidades=pd.read_excel('./input/entidades.xlsx')\n",
    "entidades.to_csv('./output/entidades.csv',index=False,sep='|',quotechar='\"',escapechar=\"'\")"
   ]
  },
  {
   "cell_type": "code",
   "execution_count": 66,
   "metadata": {},
   "outputs": [],
   "source": [
    "sectors=pd.read_excel('./input/sectores.xlsx')\n",
    "sectors.to_csv('./output/sectores.csv',index=False,sep='|',quotechar='\"',escapechar=\"'\")"
   ]
  },
  {
   "cell_type": "markdown",
   "metadata": {},
   "source": [
    "# indices"
   ]
  },
  {
   "cell_type": "code",
   "execution_count": 67,
   "metadata": {},
   "outputs": [],
   "source": [
    "data = {\n",
    "    'id': [\n",
    "        2019,\n",
    "        2021,\n",
    "        2023\n",
    "        ],\n",
    "    'description': [\n",
    "        'El Índice de Innovación del 2019 contó con la participación de 39 entidades y generó la linea base del Distrito en innovación.',\n",
    "        'El Índice de Innovación del 2019 contó con la participación de 68 entidades y añadió a todas las Alcaldías Locales',\n",
    "        'El Índice de Innovación del 2019 contó con la participación de 69 entidades y amplió drásticamente la información al incorporar búcles con información descriptiva.',\n",
    "    ]\n",
    "    }\n",
    "indices = pd.DataFrame(data)\n",
    "indices.to_csv('./output/indices.csv',index=False,sep='|',quotechar='\"',escapechar=\"'\")"
   ]
  },
  {
   "cell_type": "markdown",
   "metadata": {},
   "source": [
    "# jerarquia"
   ]
  },
  {
   "cell_type": "markdown",
   "metadata": {},
   "source": [
    "## 19"
   ]
  },
  {
   "cell_type": "code",
   "execution_count": 68,
   "metadata": {},
   "outputs": [],
   "source": [
    "j_2019=pd.read_excel('./input/pre_2019.xlsx')\n",
    "j_2019['index_edition_id']='2019'\n",
    "j_2019['weight']=0\n",
    "j_2019['question_type']=\"0\"\n",
    "\n",
    "j_2019 = j_2019.drop(columns=['T'])\n",
    "\n",
    "\n",
    "\n",
    "\n",
    "c_2019 = j_2019[['Componente','index_edition_id', 'weight']].drop_duplicates().copy()\n",
    "\n",
    "c_2019 = c_2019.rename(columns={\"Componente\": \"name\"})\n",
    "c_2019[\"id\"] = [uuid.uuid4() for _ in range(len(c_2019))]\n",
    "\n",
    "c_2019 = c_2019[['id', 'index_edition_id', 'name', 'weight']]\n",
    "\n",
    "\n",
    "\n",
    "v_2019 = j_2019[['Componente', 'Variable', 'index_edition_id', 'weight']].drop_duplicates().copy()\n",
    "\n",
    "v_2019 = v_2019.rename(columns={\"Variable\": \"name\"})\n",
    "v_2019[\"id\"] = [uuid.uuid4() for _ in range(len(v_2019))]\n",
    "\n",
    "v_2019 = v_2019.merge(\n",
    "    c_2019[['name', 'id']], \n",
    "    left_on='Componente', \n",
    "    right_on='name', \n",
    "    how='left'\n",
    ").rename(columns={'id_y': 'component_id', 'name_x': 'name', 'id_x': 'id'}).drop(columns=['Componente', 'name_y'])\n",
    "\n",
    "v_2019 = v_2019[['id', 'index_edition_id', 'component_id', 'name', 'weight']]\n",
    "\n",
    "\n",
    "\n",
    "i_2019 = j_2019[['Variable', 'Indicador', 'index_edition_id', 'weight']].drop_duplicates().copy()\n",
    "\n",
    "i_2019 = i_2019.rename(columns={\"Indicador\": \"name\"})\n",
    "i_2019[\"id\"] = [uuid.uuid4() for _ in range(len(i_2019))]\n",
    "\n",
    "i_2019 = i_2019.merge(\n",
    "    v_2019[['name', 'id']], \n",
    "    left_on='Variable', \n",
    "    right_on='name', \n",
    "    how='left'\n",
    ").rename(columns={'id_y': 'variable_id', 'name_x': 'name', 'id_x': 'id'}).drop(columns=['Variable', 'name_y'])\n",
    "\n",
    "i_2019 = i_2019[['id', 'index_edition_id', 'variable_id', 'name', 'weight']]\n",
    "\n",
    "\n",
    "\n",
    "p_2019 = j_2019[['Indicador', 'Pregunta', 'index_edition_id', 'weight', 'question_type']].drop_duplicates().copy()\n",
    "\n",
    "p_2019 = p_2019.rename(columns={\"Pregunta\": \"name\"})\n",
    "p_2019[\"id\"] = [uuid.uuid4() for _ in range(len(p_2019))]\n",
    "\n",
    "p_2019 = p_2019.merge(\n",
    "    i_2019[['name', 'id']], \n",
    "    left_on='Indicador', \n",
    "    right_on='name', \n",
    "    how='left'\n",
    ").rename(columns={'id_y': 'indicador_id', 'name_x': 'name', 'id_x': 'id'}).drop(columns=['Indicador', 'name_y'])\n",
    "\n",
    "p_2019 = p_2019[['id', 'index_edition_id', 'indicador_id', 'name', 'weight', 'question_type']]"
   ]
  },
  {
   "cell_type": "markdown",
   "metadata": {},
   "source": [
    "## 21"
   ]
  },
  {
   "cell_type": "code",
   "execution_count": 69,
   "metadata": {},
   "outputs": [],
   "source": [
    "j_2021=pd.read_excel('./input/pre_2021.xlsx')\n",
    "j_2021['index_edition_id']='2021'\n",
    "j_2021['weight']=0\n",
    "j_2021['question_type']=\"0\"\n",
    "\n",
    "j_2021 = j_2021.drop(columns=['T'])\n",
    "\n",
    "\n",
    "\n",
    "\n",
    "c_2021 = j_2021[['Componente','index_edition_id', 'weight']].drop_duplicates().copy()\n",
    "\n",
    "c_2021 = c_2021.rename(columns={\"Componente\": \"name\"})\n",
    "c_2021[\"id\"] = [uuid.uuid4() for _ in range(len(c_2021))]\n",
    "\n",
    "c_2021 = c_2021[['id', 'index_edition_id', 'name', 'weight']]\n",
    "\n",
    "\n",
    "\n",
    "v_2021 = j_2021[['Componente', 'Variable', 'index_edition_id', 'weight']].drop_duplicates().copy()\n",
    "\n",
    "v_2021 = v_2021.rename(columns={\"Variable\": \"name\"})\n",
    "v_2021[\"id\"] = [uuid.uuid4() for _ in range(len(v_2021))]\n",
    "\n",
    "v_2021 = v_2021.merge(\n",
    "    c_2021[['name', 'id']], \n",
    "    left_on='Componente', \n",
    "    right_on='name', \n",
    "    how='left'\n",
    ").rename(columns={'id_y': 'component_id', 'name_x': 'name', 'id_x': 'id'}).drop(columns=['Componente', 'name_y'])\n",
    "\n",
    "v_2021 = v_2021[['id', 'index_edition_id', 'component_id', 'name', 'weight']]\n",
    "\n",
    "\n",
    "\n",
    "i_2021 = j_2021[['Variable', 'Indicador', 'index_edition_id', 'weight']].drop_duplicates().copy()\n",
    "\n",
    "i_2021 = i_2021.rename(columns={\"Indicador\": \"name\"})\n",
    "i_2021[\"id\"] = [uuid.uuid4() for _ in range(len(i_2021))]\n",
    "\n",
    "i_2021 = i_2021.merge(\n",
    "    v_2021[['name', 'id']], \n",
    "    left_on='Variable', \n",
    "    right_on='name', \n",
    "    how='left'\n",
    ").rename(columns={'id_y': 'variable_id', 'name_x': 'name', 'id_x': 'id'}).drop(columns=['Variable', 'name_y'])\n",
    "\n",
    "i_2021 = i_2021[['id', 'index_edition_id', 'variable_id', 'name', 'weight']]\n",
    "\n",
    "\n",
    "\n",
    "p_2021 = j_2021[['Indicador', 'Pregunta', 'index_edition_id', 'weight', 'question_type']].drop_duplicates().copy()\n",
    "\n",
    "p_2021 = p_2021.rename(columns={\"Pregunta\": \"name\"})\n",
    "p_2021[\"id\"] = [uuid.uuid4() for _ in range(len(p_2021))]\n",
    "\n",
    "p_2021 = p_2021.merge(\n",
    "    i_2021[['name', 'id']], \n",
    "    left_on='Indicador', \n",
    "    right_on='name', \n",
    "    how='left'\n",
    ").rename(columns={'id_y': 'indicador_id', 'name_x': 'name', 'id_x': 'id'}).drop(columns=['Indicador', 'name_y'])\n",
    "\n",
    "p_2021 = p_2021[['id', 'index_edition_id', 'indicador_id', 'name', 'weight', 'question_type']]"
   ]
  },
  {
   "cell_type": "markdown",
   "metadata": {},
   "source": [
    "## 23"
   ]
  },
  {
   "cell_type": "code",
   "execution_count": 70,
   "metadata": {},
   "outputs": [],
   "source": [
    "j_2023=pd.read_excel('./input/pre_2023.xlsx')\n",
    "j_2023['index_edition_id']='2023'\n",
    "j_2023['weight']=0\n",
    "j_2023['question_type']=\"0\"\n",
    "\n",
    "j_2023 = j_2023.drop(columns=['T'])\n",
    "\n",
    "\n",
    "\n",
    "\n",
    "c_2023 = j_2023[['Componente','index_edition_id', 'weight']].drop_duplicates().copy()\n",
    "\n",
    "c_2023 = c_2023.rename(columns={\"Componente\": \"name\"})\n",
    "c_2023[\"id\"] = [uuid.uuid4() for _ in range(len(c_2023))]\n",
    "\n",
    "c_2023 = c_2023[['id', 'index_edition_id', 'name', 'weight']]\n",
    "\n",
    "\n",
    "\n",
    "v_2023 = j_2023[['Componente', 'Variable', 'index_edition_id', 'weight']].drop_duplicates().copy()\n",
    "\n",
    "v_2023 = v_2023.rename(columns={\"Variable\": \"name\"})\n",
    "v_2023[\"id\"] = [uuid.uuid4() for _ in range(len(v_2023))]\n",
    "\n",
    "v_2023 = v_2023.merge(\n",
    "    c_2023[['name', 'id']], \n",
    "    left_on='Componente', \n",
    "    right_on='name', \n",
    "    how='left'\n",
    ").rename(columns={'id_y': 'component_id', 'name_x': 'name', 'id_x': 'id'}).drop(columns=['Componente', 'name_y'])\n",
    "\n",
    "v_2023 = v_2023[['id', 'index_edition_id', 'component_id', 'name', 'weight']]\n",
    "\n",
    "\n",
    "\n",
    "i_2023 = j_2023[['Variable', 'Indicador', 'index_edition_id', 'weight']].drop_duplicates().copy()\n",
    "\n",
    "i_2023 = i_2023.rename(columns={\"Indicador\": \"name\"})\n",
    "i_2023[\"id\"] = [uuid.uuid4() for _ in range(len(i_2023))]\n",
    "\n",
    "i_2023 = i_2023.merge(\n",
    "    v_2023[['name', 'id']], \n",
    "    left_on='Variable', \n",
    "    right_on='name', \n",
    "    how='left'\n",
    ").rename(columns={'id_y': 'variable_id', 'name_x': 'name', 'id_x': 'id'}).drop(columns=['Variable', 'name_y'])\n",
    "\n",
    "i_2023 = i_2023[['id', 'index_edition_id', 'variable_id', 'name', 'weight']]\n",
    "\n",
    "\n",
    "\n",
    "p_2023 = j_2023[['Indicador', 'Pregunta', 'index_edition_id', 'weight', 'question_type']].drop_duplicates().copy()\n",
    "\n",
    "p_2023 = p_2023.rename(columns={\"Pregunta\": \"name\"})\n",
    "p_2023[\"id\"] = [uuid.uuid4() for _ in range(len(p_2023))]\n",
    "\n",
    "p_2023 = p_2023.merge(\n",
    "    i_2023[['name', 'id']], \n",
    "    left_on='Indicador', \n",
    "    right_on='name', \n",
    "    how='left'\n",
    ").rename(columns={'id_y': 'indicador_id', 'name_x': 'name', 'id_x': 'id'}).drop(columns=['Indicador', 'name_y'])\n",
    "\n",
    "p_2023 = p_2023[['id', 'index_edition_id', 'indicador_id', 'name', 'weight', 'question_type']]"
   ]
  },
  {
   "cell_type": "markdown",
   "metadata": {},
   "source": [
    "## Unificado"
   ]
  },
  {
   "cell_type": "code",
   "execution_count": 71,
   "metadata": {},
   "outputs": [],
   "source": [
    "c=pd.concat([c_2019,c_2021,c_2023])"
   ]
  },
  {
   "cell_type": "code",
   "execution_count": 72,
   "metadata": {},
   "outputs": [],
   "source": [
    "v=pd.concat([v_2019,v_2021,v_2023])"
   ]
  },
  {
   "cell_type": "code",
   "execution_count": 73,
   "metadata": {},
   "outputs": [],
   "source": [
    "i=pd.concat([i_2019,i_2021,i_2023])"
   ]
  },
  {
   "cell_type": "code",
   "execution_count": 74,
   "metadata": {},
   "outputs": [],
   "source": [
    "p=pd.concat([p_2019,p_2021,p_2023])"
   ]
  },
  {
   "cell_type": "code",
   "execution_count": 75,
   "metadata": {},
   "outputs": [],
   "source": [
    "c.to_csv('./output/componentes.csv',index=False,sep='|',quotechar='\"',escapechar=\"'\")\n",
    "v.to_csv('./output/variables.csv',index=False,sep='|',quotechar='\"',escapechar=\"'\")\n",
    "i.to_csv('./output/indicadores.csv',index=False,sep='|',quotechar='\"',escapechar=\"'\")\n",
    "p.to_csv('./output/preguntas.csv',index=False,sep='|',quotechar='\"',escapechar=\"'\")"
   ]
  },
  {
   "cell_type": "code",
   "execution_count": null,
   "metadata": {},
   "outputs": [],
   "source": []
  }
 ],
 "metadata": {
  "kernelspec": {
   "display_name": ".venv",
   "language": "python",
   "name": "python3"
  },
  "language_info": {
   "codemirror_mode": {
    "name": "ipython",
    "version": 3
   },
   "file_extension": ".py",
   "mimetype": "text/x-python",
   "name": "python",
   "nbconvert_exporter": "python",
   "pygments_lexer": "ipython3",
   "version": "3.12.3"
  }
 },
 "nbformat": 4,
 "nbformat_minor": 2
}
